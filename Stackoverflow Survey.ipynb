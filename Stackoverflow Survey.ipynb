{
 "cells": [
  {
   "cell_type": "code",
   "execution_count": 1,
   "id": "fb6411d8-280b-47aa-b860-2141c5e795e6",
   "metadata": {},
   "outputs": [],
   "source": [
    "import pandas as pd"
   ]
  },
  {
   "cell_type": "code",
   "execution_count": 2,
   "id": "fe0669e8-0002-41da-8d69-a86f0c2bf758",
   "metadata": {},
   "outputs": [
    {
     "data": {
      "text/html": [
       "<div>\n",
       "<style scoped>\n",
       "    .dataframe tbody tr th:only-of-type {\n",
       "        vertical-align: middle;\n",
       "    }\n",
       "\n",
       "    .dataframe tbody tr th {\n",
       "        vertical-align: top;\n",
       "    }\n",
       "\n",
       "    .dataframe thead th {\n",
       "        text-align: right;\n",
       "    }\n",
       "</style>\n",
       "<table border=\"1\" class=\"dataframe\">\n",
       "  <thead>\n",
       "    <tr style=\"text-align: right;\">\n",
       "      <th></th>\n",
       "      <th>ResponseId</th>\n",
       "      <th>MainBranch</th>\n",
       "      <th>Age</th>\n",
       "      <th>Employment</th>\n",
       "      <th>RemoteWork</th>\n",
       "      <th>Check</th>\n",
       "      <th>CodingActivities</th>\n",
       "      <th>EdLevel</th>\n",
       "      <th>LearnCode</th>\n",
       "      <th>LearnCodeOnline</th>\n",
       "      <th>...</th>\n",
       "      <th>JobSatPoints_6</th>\n",
       "      <th>JobSatPoints_7</th>\n",
       "      <th>JobSatPoints_8</th>\n",
       "      <th>JobSatPoints_9</th>\n",
       "      <th>JobSatPoints_10</th>\n",
       "      <th>JobSatPoints_11</th>\n",
       "      <th>SurveyLength</th>\n",
       "      <th>SurveyEase</th>\n",
       "      <th>ConvertedCompYearly</th>\n",
       "      <th>JobSat</th>\n",
       "    </tr>\n",
       "  </thead>\n",
       "  <tbody>\n",
       "    <tr>\n",
       "      <th>0</th>\n",
       "      <td>1</td>\n",
       "      <td>I am a developer by profession</td>\n",
       "      <td>Under 18 years old</td>\n",
       "      <td>Employed, full-time</td>\n",
       "      <td>Remote</td>\n",
       "      <td>Apples</td>\n",
       "      <td>Hobby</td>\n",
       "      <td>Primary/elementary school</td>\n",
       "      <td>Books / Physical media</td>\n",
       "      <td>NaN</td>\n",
       "      <td>...</td>\n",
       "      <td>NaN</td>\n",
       "      <td>NaN</td>\n",
       "      <td>NaN</td>\n",
       "      <td>NaN</td>\n",
       "      <td>NaN</td>\n",
       "      <td>NaN</td>\n",
       "      <td>NaN</td>\n",
       "      <td>NaN</td>\n",
       "      <td>NaN</td>\n",
       "      <td>NaN</td>\n",
       "    </tr>\n",
       "    <tr>\n",
       "      <th>1</th>\n",
       "      <td>2</td>\n",
       "      <td>I am a developer by profession</td>\n",
       "      <td>35-44 years old</td>\n",
       "      <td>Employed, full-time</td>\n",
       "      <td>Remote</td>\n",
       "      <td>Apples</td>\n",
       "      <td>Hobby;Contribute to open-source projects;Other...</td>\n",
       "      <td>Bachelor’s degree (B.A., B.S., B.Eng., etc.)</td>\n",
       "      <td>Books / Physical media;Colleague;On the job tr...</td>\n",
       "      <td>Technical documentation;Blogs;Books;Written Tu...</td>\n",
       "      <td>...</td>\n",
       "      <td>0.0</td>\n",
       "      <td>0.0</td>\n",
       "      <td>0.0</td>\n",
       "      <td>0.0</td>\n",
       "      <td>0.0</td>\n",
       "      <td>0.0</td>\n",
       "      <td>NaN</td>\n",
       "      <td>NaN</td>\n",
       "      <td>NaN</td>\n",
       "      <td>NaN</td>\n",
       "    </tr>\n",
       "    <tr>\n",
       "      <th>2</th>\n",
       "      <td>3</td>\n",
       "      <td>I am a developer by profession</td>\n",
       "      <td>45-54 years old</td>\n",
       "      <td>Employed, full-time</td>\n",
       "      <td>Remote</td>\n",
       "      <td>Apples</td>\n",
       "      <td>Hobby;Contribute to open-source projects;Other...</td>\n",
       "      <td>Master’s degree (M.A., M.S., M.Eng., MBA, etc.)</td>\n",
       "      <td>Books / Physical media;Colleague;On the job tr...</td>\n",
       "      <td>Technical documentation;Blogs;Books;Written Tu...</td>\n",
       "      <td>...</td>\n",
       "      <td>NaN</td>\n",
       "      <td>NaN</td>\n",
       "      <td>NaN</td>\n",
       "      <td>NaN</td>\n",
       "      <td>NaN</td>\n",
       "      <td>NaN</td>\n",
       "      <td>Appropriate in length</td>\n",
       "      <td>Easy</td>\n",
       "      <td>NaN</td>\n",
       "      <td>NaN</td>\n",
       "    </tr>\n",
       "    <tr>\n",
       "      <th>3</th>\n",
       "      <td>4</td>\n",
       "      <td>I am learning to code</td>\n",
       "      <td>18-24 years old</td>\n",
       "      <td>Student, full-time</td>\n",
       "      <td>NaN</td>\n",
       "      <td>Apples</td>\n",
       "      <td>NaN</td>\n",
       "      <td>Some college/university study without earning ...</td>\n",
       "      <td>Other online resources (e.g., videos, blogs, f...</td>\n",
       "      <td>Stack Overflow;How-to videos;Interactive tutorial</td>\n",
       "      <td>...</td>\n",
       "      <td>NaN</td>\n",
       "      <td>NaN</td>\n",
       "      <td>NaN</td>\n",
       "      <td>NaN</td>\n",
       "      <td>NaN</td>\n",
       "      <td>NaN</td>\n",
       "      <td>Too long</td>\n",
       "      <td>Easy</td>\n",
       "      <td>NaN</td>\n",
       "      <td>NaN</td>\n",
       "    </tr>\n",
       "    <tr>\n",
       "      <th>4</th>\n",
       "      <td>5</td>\n",
       "      <td>I am a developer by profession</td>\n",
       "      <td>18-24 years old</td>\n",
       "      <td>Student, full-time</td>\n",
       "      <td>NaN</td>\n",
       "      <td>Apples</td>\n",
       "      <td>NaN</td>\n",
       "      <td>Secondary school (e.g. American high school, G...</td>\n",
       "      <td>Other online resources (e.g., videos, blogs, f...</td>\n",
       "      <td>Technical documentation;Blogs;Written Tutorial...</td>\n",
       "      <td>...</td>\n",
       "      <td>NaN</td>\n",
       "      <td>NaN</td>\n",
       "      <td>NaN</td>\n",
       "      <td>NaN</td>\n",
       "      <td>NaN</td>\n",
       "      <td>NaN</td>\n",
       "      <td>Too short</td>\n",
       "      <td>Easy</td>\n",
       "      <td>NaN</td>\n",
       "      <td>NaN</td>\n",
       "    </tr>\n",
       "  </tbody>\n",
       "</table>\n",
       "<p>5 rows × 114 columns</p>\n",
       "</div>"
      ],
      "text/plain": [
       "   ResponseId                      MainBranch                 Age  \\\n",
       "0           1  I am a developer by profession  Under 18 years old   \n",
       "1           2  I am a developer by profession     35-44 years old   \n",
       "2           3  I am a developer by profession     45-54 years old   \n",
       "3           4           I am learning to code     18-24 years old   \n",
       "4           5  I am a developer by profession     18-24 years old   \n",
       "\n",
       "            Employment RemoteWork   Check  \\\n",
       "0  Employed, full-time     Remote  Apples   \n",
       "1  Employed, full-time     Remote  Apples   \n",
       "2  Employed, full-time     Remote  Apples   \n",
       "3   Student, full-time        NaN  Apples   \n",
       "4   Student, full-time        NaN  Apples   \n",
       "\n",
       "                                    CodingActivities  \\\n",
       "0                                              Hobby   \n",
       "1  Hobby;Contribute to open-source projects;Other...   \n",
       "2  Hobby;Contribute to open-source projects;Other...   \n",
       "3                                                NaN   \n",
       "4                                                NaN   \n",
       "\n",
       "                                             EdLevel  \\\n",
       "0                          Primary/elementary school   \n",
       "1       Bachelor’s degree (B.A., B.S., B.Eng., etc.)   \n",
       "2    Master’s degree (M.A., M.S., M.Eng., MBA, etc.)   \n",
       "3  Some college/university study without earning ...   \n",
       "4  Secondary school (e.g. American high school, G...   \n",
       "\n",
       "                                           LearnCode  \\\n",
       "0                             Books / Physical media   \n",
       "1  Books / Physical media;Colleague;On the job tr...   \n",
       "2  Books / Physical media;Colleague;On the job tr...   \n",
       "3  Other online resources (e.g., videos, blogs, f...   \n",
       "4  Other online resources (e.g., videos, blogs, f...   \n",
       "\n",
       "                                     LearnCodeOnline  ... JobSatPoints_6  \\\n",
       "0                                                NaN  ...            NaN   \n",
       "1  Technical documentation;Blogs;Books;Written Tu...  ...            0.0   \n",
       "2  Technical documentation;Blogs;Books;Written Tu...  ...            NaN   \n",
       "3  Stack Overflow;How-to videos;Interactive tutorial  ...            NaN   \n",
       "4  Technical documentation;Blogs;Written Tutorial...  ...            NaN   \n",
       "\n",
       "  JobSatPoints_7 JobSatPoints_8 JobSatPoints_9 JobSatPoints_10  \\\n",
       "0            NaN            NaN            NaN             NaN   \n",
       "1            0.0            0.0            0.0             0.0   \n",
       "2            NaN            NaN            NaN             NaN   \n",
       "3            NaN            NaN            NaN             NaN   \n",
       "4            NaN            NaN            NaN             NaN   \n",
       "\n",
       "  JobSatPoints_11           SurveyLength SurveyEase ConvertedCompYearly JobSat  \n",
       "0             NaN                    NaN        NaN                 NaN    NaN  \n",
       "1             0.0                    NaN        NaN                 NaN    NaN  \n",
       "2             NaN  Appropriate in length       Easy                 NaN    NaN  \n",
       "3             NaN               Too long       Easy                 NaN    NaN  \n",
       "4             NaN              Too short       Easy                 NaN    NaN  \n",
       "\n",
       "[5 rows x 114 columns]"
      ]
     },
     "execution_count": 2,
     "metadata": {},
     "output_type": "execute_result"
    }
   ],
   "source": [
    "df = pd.read_csv(r\"D:\\GoIT\\stack-overflow-developer-survey-2024\\survey_results_public.csv\")\n",
    "df1 = pd.read_csv(r\"D:\\GoIT\\stack-overflow-developer-survey-2024\\survey_results_schema.csv\")\n",
    "df.head()\n"
   ]
  },
  {
   "cell_type": "code",
   "execution_count": 3,
   "id": "f1db9599-028b-4995-9253-070638cd46e3",
   "metadata": {},
   "outputs": [
    {
     "data": {
      "text/html": [
       "<div>\n",
       "<style scoped>\n",
       "    .dataframe tbody tr th:only-of-type {\n",
       "        vertical-align: middle;\n",
       "    }\n",
       "\n",
       "    .dataframe tbody tr th {\n",
       "        vertical-align: top;\n",
       "    }\n",
       "\n",
       "    .dataframe thead th {\n",
       "        text-align: right;\n",
       "    }\n",
       "</style>\n",
       "<table border=\"1\" class=\"dataframe\">\n",
       "  <thead>\n",
       "    <tr style=\"text-align: right;\">\n",
       "      <th></th>\n",
       "      <th>qid</th>\n",
       "      <th>qname</th>\n",
       "      <th>question</th>\n",
       "      <th>force_resp</th>\n",
       "      <th>type</th>\n",
       "      <th>selector</th>\n",
       "    </tr>\n",
       "  </thead>\n",
       "  <tbody>\n",
       "    <tr>\n",
       "      <th>0</th>\n",
       "      <td>QID2</td>\n",
       "      <td>MainBranch</td>\n",
       "      <td>Which of the following options best describes ...</td>\n",
       "      <td>True</td>\n",
       "      <td>MC</td>\n",
       "      <td>SAVR</td>\n",
       "    </tr>\n",
       "    <tr>\n",
       "      <th>1</th>\n",
       "      <td>QID127</td>\n",
       "      <td>Age</td>\n",
       "      <td>What is your age?*</td>\n",
       "      <td>True</td>\n",
       "      <td>MC</td>\n",
       "      <td>SAVR</td>\n",
       "    </tr>\n",
       "    <tr>\n",
       "      <th>2</th>\n",
       "      <td>QID296</td>\n",
       "      <td>Employment</td>\n",
       "      <td>Which of the following best describes your cur...</td>\n",
       "      <td>True</td>\n",
       "      <td>MC</td>\n",
       "      <td>MAVR</td>\n",
       "    </tr>\n",
       "    <tr>\n",
       "      <th>3</th>\n",
       "      <td>QID308</td>\n",
       "      <td>RemoteWork</td>\n",
       "      <td>Which best describes your current work situation?</td>\n",
       "      <td>False</td>\n",
       "      <td>MC</td>\n",
       "      <td>SAVR</td>\n",
       "    </tr>\n",
       "    <tr>\n",
       "      <th>4</th>\n",
       "      <td>QID341</td>\n",
       "      <td>Check</td>\n",
       "      <td>Just checking to make sure you are paying atte...</td>\n",
       "      <td>True</td>\n",
       "      <td>MC</td>\n",
       "      <td>SAVR</td>\n",
       "    </tr>\n",
       "    <tr>\n",
       "      <th>5</th>\n",
       "      <td>QID297</td>\n",
       "      <td>CodingActivities</td>\n",
       "      <td>Which of the following best describes the code...</td>\n",
       "      <td>False</td>\n",
       "      <td>MC</td>\n",
       "      <td>MAVR</td>\n",
       "    </tr>\n",
       "    <tr>\n",
       "      <th>6</th>\n",
       "      <td>QID25</td>\n",
       "      <td>EdLevel</td>\n",
       "      <td>Which of the following best describes the high...</td>\n",
       "      <td>True</td>\n",
       "      <td>MC</td>\n",
       "      <td>SAVR</td>\n",
       "    </tr>\n",
       "    <tr>\n",
       "      <th>7</th>\n",
       "      <td>QID276</td>\n",
       "      <td>LearnCode</td>\n",
       "      <td>How do you learn to code? Select all that apply.</td>\n",
       "      <td>False</td>\n",
       "      <td>MC</td>\n",
       "      <td>MAVR</td>\n",
       "    </tr>\n",
       "    <tr>\n",
       "      <th>8</th>\n",
       "      <td>QID281</td>\n",
       "      <td>LearnCodeOnline</td>\n",
       "      <td>What online resources do you use to learn to c...</td>\n",
       "      <td>False</td>\n",
       "      <td>MC</td>\n",
       "      <td>MAVR</td>\n",
       "    </tr>\n",
       "    <tr>\n",
       "      <th>9</th>\n",
       "      <td>QID331</td>\n",
       "      <td>TechDoc</td>\n",
       "      <td>What is the source of the technical documentat...</td>\n",
       "      <td>False</td>\n",
       "      <td>MC</td>\n",
       "      <td>MAVR</td>\n",
       "    </tr>\n",
       "  </tbody>\n",
       "</table>\n",
       "</div>"
      ],
      "text/plain": [
       "      qid             qname  \\\n",
       "0    QID2        MainBranch   \n",
       "1  QID127               Age   \n",
       "2  QID296        Employment   \n",
       "3  QID308        RemoteWork   \n",
       "4  QID341             Check   \n",
       "5  QID297  CodingActivities   \n",
       "6   QID25           EdLevel   \n",
       "7  QID276         LearnCode   \n",
       "8  QID281   LearnCodeOnline   \n",
       "9  QID331           TechDoc   \n",
       "\n",
       "                                            question force_resp type selector  \n",
       "0  Which of the following options best describes ...       True   MC     SAVR  \n",
       "1                                 What is your age?*       True   MC     SAVR  \n",
       "2  Which of the following best describes your cur...       True   MC     MAVR  \n",
       "3  Which best describes your current work situation?      False   MC     SAVR  \n",
       "4  Just checking to make sure you are paying atte...       True   MC     SAVR  \n",
       "5  Which of the following best describes the code...      False   MC     MAVR  \n",
       "6  Which of the following best describes the high...       True   MC     SAVR  \n",
       "7   How do you learn to code? Select all that apply.      False   MC     MAVR  \n",
       "8  What online resources do you use to learn to c...      False   MC     MAVR  \n",
       "9  What is the source of the technical documentat...      False   MC     MAVR  "
      ]
     },
     "execution_count": 3,
     "metadata": {},
     "output_type": "execute_result"
    }
   ],
   "source": [
    "df1.head(10)"
   ]
  },
  {
   "cell_type": "markdown",
   "id": "fe5a8ae3-375f-4c0c-93b1-eec8c9c4bcdb",
   "metadata": {},
   "source": [
    "1. How many respondents completed the survey?\n"
   ]
  },
  {
   "cell_type": "code",
   "execution_count": 5,
   "id": "086c33ce-82c5-4b1b-a61a-f78f3d61c423",
   "metadata": {},
   "outputs": [
    {
     "data": {
      "text/plain": [
       "65437"
      ]
     },
     "execution_count": 5,
     "metadata": {},
     "output_type": "execute_result"
    }
   ],
   "source": [
    "df.ResponseId.nunique()"
   ]
  },
  {
   "cell_type": "markdown",
   "id": "5098ec1f-e944-41aa-84dc-d6a29173a1d1",
   "metadata": {},
   "source": [
    "2. How many respondents answered all the questions?"
   ]
  },
  {
   "cell_type": "code",
   "execution_count": 7,
   "id": "dfa071e6-51f9-4cbb-87de-022fdc455cd6",
   "metadata": {},
   "outputs": [
    {
     "data": {
      "text/plain": [
       "6306"
      ]
     },
     "execution_count": 7,
     "metadata": {},
     "output_type": "execute_result"
    }
   ],
   "source": [
    "questions = set(df1.qname.unique()) & set(df.columns)\n",
    "df.dropna(subset=questions).shape[0]"
   ]
  },
  {
   "cell_type": "markdown",
   "id": "005047c7-d5c7-4477-be22-0460ba16d7bd",
   "metadata": {},
   "source": [
    "3. What are the values ​​of the measures of central tendency for the experience (WorkExp) of the respondents?"
   ]
  },
  {
   "cell_type": "code",
   "execution_count": 9,
   "id": "f2631fce-5499-4b67-a946-c0220fe41010",
   "metadata": {},
   "outputs": [
    {
     "name": "stdout",
     "output_type": "stream",
     "text": [
      "Mean: 11.5\n",
      "Median: 9.0\n",
      "Mode: 0    3.0\n",
      "Name: WorkExp, dtype: float64\n"
     ]
    }
   ],
   "source": [
    "print(f'Mean: {round(df.WorkExp.mean(), 1)}')\n",
    "print(f'Median: {round(df.WorkExp.median(), 1)}')\n",
    "print(f'Mode: {round(df.WorkExp.mode(), 1)}')"
   ]
  },
  {
   "cell_type": "markdown",
   "id": "92968b02-860f-4494-91e3-740f047f5fdb",
   "metadata": {},
   "source": [
    "4. How many respondents work remotely?"
   ]
  },
  {
   "cell_type": "code",
   "execution_count": 11,
   "id": "02622ee8-0eb7-4171-9ff1-7e0e664f97f4",
   "metadata": {},
   "outputs": [
    {
     "data": {
      "text/plain": [
       "20831"
      ]
     },
     "execution_count": 11,
     "metadata": {},
     "output_type": "execute_result"
    }
   ],
   "source": [
    "df[df.RemoteWork == 'Remote'].shape[0]"
   ]
  },
  {
   "cell_type": "markdown",
   "id": "bb2851b2-9a13-40a0-9e8a-3836faf4b58f",
   "metadata": {},
   "source": [
    "5. What percentage of respondents program in Python?"
   ]
  },
  {
   "cell_type": "code",
   "execution_count": 13,
   "id": "eeb2aedd-e612-4d13-976c-08514d55f7f0",
   "metadata": {},
   "outputs": [
    {
     "data": {
      "text/plain": [
       "0        False\n",
       "1         True\n",
       "2        False\n",
       "3         True\n",
       "4         True\n",
       "         ...  \n",
       "65432    False\n",
       "65433    False\n",
       "65434    False\n",
       "65435     True\n",
       "65436     True\n",
       "Name: LanguageHaveWorkedWith, Length: 65437, dtype: bool"
      ]
     },
     "execution_count": 13,
     "metadata": {},
     "output_type": "execute_result"
    }
   ],
   "source": [
    "df.LanguageHaveWorkedWith.str.contains('python', case=False, na=False)"
   ]
  },
  {
   "cell_type": "code",
   "execution_count": 14,
   "id": "eb6a1fc3-d816-4f99-b9df-c6979cb3efa5",
   "metadata": {},
   "outputs": [
    {
     "name": "stdout",
     "output_type": "stream",
     "text": [
      "30795\n"
     ]
    },
    {
     "data": {
      "text/plain": [
       "47.06"
      ]
     },
     "execution_count": 14,
     "metadata": {},
     "output_type": "execute_result"
    }
   ],
   "source": [
    "df['worked_with_python'] = df.LanguageHaveWorkedWith.str.contains('python', case=False, na=False)\n",
    "print(df.worked_with_python.sum()) \n",
    "round(df.worked_with_python.sum() / df.ResponseId.nunique()*100, 2)"
   ]
  },
  {
   "cell_type": "markdown",
   "id": "43ef3729-7ec7-465f-a8ca-efeea987d529",
   "metadata": {},
   "source": [
    "6. How many respondents learned to program using online courses?"
   ]
  },
  {
   "cell_type": "code",
   "execution_count": 16,
   "id": "00443a31-1710-4829-a5ed-d192ddbebdd3",
   "metadata": {},
   "outputs": [
    {
     "data": {
      "text/plain": [
       "30271"
      ]
     },
     "execution_count": 16,
     "metadata": {},
     "output_type": "execute_result"
    }
   ],
   "source": [
    "df['learned_with_online_courses'] = df.LearnCode.str.contains('online courses', case=False, na=False)\n",
    "df.learned_with_online_courses.sum()"
   ]
  },
  {
   "cell_type": "markdown",
   "id": "19917ded-1531-42b8-bc32-1cca25862199",
   "metadata": {},
   "source": [
    "7. Among respondents who program in Python, grouped by country, what is the average and median compensation amount (ConvertedCompYearly) in each country?"
   ]
  },
  {
   "cell_type": "code",
   "execution_count": 18,
   "id": "c60f6fd7-35cf-4a8e-98b2-886306bb4000",
   "metadata": {},
   "outputs": [
    {
     "data": {
      "text/html": [
       "<div>\n",
       "<style scoped>\n",
       "    .dataframe tbody tr th:only-of-type {\n",
       "        vertical-align: middle;\n",
       "    }\n",
       "\n",
       "    .dataframe tbody tr th {\n",
       "        vertical-align: top;\n",
       "    }\n",
       "\n",
       "    .dataframe thead tr th {\n",
       "        text-align: left;\n",
       "    }\n",
       "</style>\n",
       "<table border=\"1\" class=\"dataframe\">\n",
       "  <thead>\n",
       "    <tr>\n",
       "      <th></th>\n",
       "      <th>Country</th>\n",
       "      <th colspan=\"2\" halign=\"left\">ConvertedCompYearly</th>\n",
       "    </tr>\n",
       "    <tr>\n",
       "      <th></th>\n",
       "      <th></th>\n",
       "      <th>mean</th>\n",
       "      <th>median</th>\n",
       "    </tr>\n",
       "  </thead>\n",
       "  <tbody>\n",
       "    <tr>\n",
       "      <th>0</th>\n",
       "      <td>Afghanistan</td>\n",
       "      <td>4543.000000</td>\n",
       "      <td>4768.5</td>\n",
       "    </tr>\n",
       "    <tr>\n",
       "      <th>1</th>\n",
       "      <td>Albania</td>\n",
       "      <td>56295.000000</td>\n",
       "      <td>56295.0</td>\n",
       "    </tr>\n",
       "    <tr>\n",
       "      <th>2</th>\n",
       "      <td>Algeria</td>\n",
       "      <td>9053.285714</td>\n",
       "      <td>6230.0</td>\n",
       "    </tr>\n",
       "    <tr>\n",
       "      <th>3</th>\n",
       "      <td>Andorra</td>\n",
       "      <td>193331.000000</td>\n",
       "      <td>193331.0</td>\n",
       "    </tr>\n",
       "    <tr>\n",
       "      <th>4</th>\n",
       "      <td>Angola</td>\n",
       "      <td>6.000000</td>\n",
       "      <td>6.0</td>\n",
       "    </tr>\n",
       "    <tr>\n",
       "      <th>...</th>\n",
       "      <td>...</td>\n",
       "      <td>...</td>\n",
       "      <td>...</td>\n",
       "    </tr>\n",
       "    <tr>\n",
       "      <th>146</th>\n",
       "      <td>Venezuela, Bolivarian Republic of...</td>\n",
       "      <td>21500.000000</td>\n",
       "      <td>7100.0</td>\n",
       "    </tr>\n",
       "    <tr>\n",
       "      <th>147</th>\n",
       "      <td>Viet Nam</td>\n",
       "      <td>14014.562500</td>\n",
       "      <td>10180.0</td>\n",
       "    </tr>\n",
       "    <tr>\n",
       "      <th>148</th>\n",
       "      <td>Yemen</td>\n",
       "      <td>10297.333333</td>\n",
       "      <td>5333.0</td>\n",
       "    </tr>\n",
       "    <tr>\n",
       "      <th>149</th>\n",
       "      <td>Zambia</td>\n",
       "      <td>28123.666667</td>\n",
       "      <td>22803.0</td>\n",
       "    </tr>\n",
       "    <tr>\n",
       "      <th>150</th>\n",
       "      <td>Zimbabwe</td>\n",
       "      <td>37500.000000</td>\n",
       "      <td>18000.0</td>\n",
       "    </tr>\n",
       "  </tbody>\n",
       "</table>\n",
       "<p>151 rows × 3 columns</p>\n",
       "</div>"
      ],
      "text/plain": [
       "                                  Country ConvertedCompYearly          \n",
       "                                                         mean    median\n",
       "0                             Afghanistan         4543.000000    4768.5\n",
       "1                                 Albania        56295.000000   56295.0\n",
       "2                                 Algeria         9053.285714    6230.0\n",
       "3                                 Andorra       193331.000000  193331.0\n",
       "4                                  Angola            6.000000       6.0\n",
       "..                                    ...                 ...       ...\n",
       "146  Venezuela, Bolivarian Republic of...        21500.000000    7100.0\n",
       "147                              Viet Nam        14014.562500   10180.0\n",
       "148                                 Yemen        10297.333333    5333.0\n",
       "149                                Zambia        28123.666667   22803.0\n",
       "150                              Zimbabwe        37500.000000   18000.0\n",
       "\n",
       "[151 rows x 3 columns]"
      ]
     },
     "execution_count": 18,
     "metadata": {},
     "output_type": "execute_result"
    }
   ],
   "source": [
    "py_progers_by_country = df[df.worked_with_python == 1].dropna(subset='ConvertedCompYearly') \\\n",
    "                                                      .groupby('Country', as_index=False) \\\n",
    "                                                      .agg({'ConvertedCompYearly': ['mean', 'median']})\n",
    "py_progers_by_country"
   ]
  },
  {
   "cell_type": "markdown",
   "id": "55c4fc25-6657-46a0-9eab-0eba7f8d8b7b",
   "metadata": {},
   "source": [
    "8. What are the education levels of the 5 respondents with the highest compensation?"
   ]
  },
  {
   "cell_type": "code",
   "execution_count": 20,
   "id": "115f9017-92d8-4a06-90ab-b8acdfc64ab8",
   "metadata": {},
   "outputs": [
    {
     "data": {
      "text/html": [
       "<div>\n",
       "<style scoped>\n",
       "    .dataframe tbody tr th:only-of-type {\n",
       "        vertical-align: middle;\n",
       "    }\n",
       "\n",
       "    .dataframe tbody tr th {\n",
       "        vertical-align: top;\n",
       "    }\n",
       "\n",
       "    .dataframe thead th {\n",
       "        text-align: right;\n",
       "    }\n",
       "</style>\n",
       "<table border=\"1\" class=\"dataframe\">\n",
       "  <thead>\n",
       "    <tr style=\"text-align: right;\">\n",
       "      <th></th>\n",
       "      <th>ResponseId</th>\n",
       "      <th>EdLevel</th>\n",
       "      <th>ConvertedCompYearly</th>\n",
       "    </tr>\n",
       "  </thead>\n",
       "  <tbody>\n",
       "    <tr>\n",
       "      <th>0</th>\n",
       "      <td>15838</td>\n",
       "      <td>Bachelor’s degree (B.A., B.S., B.Eng., etc.)</td>\n",
       "      <td>16256603.0</td>\n",
       "    </tr>\n",
       "    <tr>\n",
       "      <th>1</th>\n",
       "      <td>12724</td>\n",
       "      <td>Professional degree (JD, MD, Ph.D, Ed.D, etc.)</td>\n",
       "      <td>13818022.0</td>\n",
       "    </tr>\n",
       "    <tr>\n",
       "      <th>2</th>\n",
       "      <td>28380</td>\n",
       "      <td>Professional degree (JD, MD, Ph.D, Ed.D, etc.)</td>\n",
       "      <td>9000000.0</td>\n",
       "    </tr>\n",
       "    <tr>\n",
       "      <th>3</th>\n",
       "      <td>17594</td>\n",
       "      <td>Bachelor’s degree (B.A., B.S., B.Eng., etc.)</td>\n",
       "      <td>6340564.0</td>\n",
       "    </tr>\n",
       "    <tr>\n",
       "      <th>4</th>\n",
       "      <td>17673</td>\n",
       "      <td>Professional degree (JD, MD, Ph.D, Ed.D, etc.)</td>\n",
       "      <td>4936778.0</td>\n",
       "    </tr>\n",
       "  </tbody>\n",
       "</table>\n",
       "</div>"
      ],
      "text/plain": [
       "   ResponseId                                         EdLevel  \\\n",
       "0       15838    Bachelor’s degree (B.A., B.S., B.Eng., etc.)   \n",
       "1       12724  Professional degree (JD, MD, Ph.D, Ed.D, etc.)   \n",
       "2       28380  Professional degree (JD, MD, Ph.D, Ed.D, etc.)   \n",
       "3       17594    Bachelor’s degree (B.A., B.S., B.Eng., etc.)   \n",
       "4       17673  Professional degree (JD, MD, Ph.D, Ed.D, etc.)   \n",
       "\n",
       "   ConvertedCompYearly  \n",
       "0           16256603.0  \n",
       "1           13818022.0  \n",
       "2            9000000.0  \n",
       "3            6340564.0  \n",
       "4            4936778.0  "
      ]
     },
     "execution_count": 20,
     "metadata": {},
     "output_type": "execute_result"
    }
   ],
   "source": [
    "df[['ResponseId', 'EdLevel', 'ConvertedCompYearly']].sort_values(by='ConvertedCompYearly', ascending=False).reset_index(drop=True).head(5)"
   ]
  },
  {
   "cell_type": "markdown",
   "id": "7522c58c-1bdb-4724-b941-f40d0b5f65ba",
   "metadata": {},
   "source": [
    "9. In each age group, what percentage of respondents program in Python?"
   ]
  },
  {
   "cell_type": "code",
   "execution_count": 46,
   "id": "5009cb65-8f67-4d60-b4c8-871432b192a0",
   "metadata": {},
   "outputs": [
    {
     "name": "stdout",
     "output_type": "stream",
     "text": [
      "AgeGroup\n",
      "18-24    55.922826\n",
      "25-34    45.773912\n",
      "35-44    41.520546\n",
      "45-54    41.910706\n",
      "55-64    40.427184\n",
      "65+      37.564767\n",
      "<18      64.875389\n",
      "Name: worked_with_python, dtype: float64\n"
     ]
    }
   ],
   "source": [
    "# Standardize Age Group labels\n",
    "age_mapping = {\n",
    "    'Under 18 years old': '<18',\n",
    "    '18-24 years old': '18-24',\n",
    "    '25-34 years old': '25-34',\n",
    "    '35-44 years old': '35-44',\n",
    "    '45-54 years old': '45-54',\n",
    "    '55-64 years old': '55-64',\n",
    "    '65 years or older': '65+',\n",
    "    'Prefer not to say': 'Prefer not to say'\n",
    "    \n",
    "}\n",
    "\n",
    "# Map Age categories\n",
    "df['AgeGroup'] = df['Age'].map(age_mapping)\n",
    "\n",
    "# Ensure only valid AgeGroup values\n",
    "df = df.dropna(subset=['AgeGroup'])\n",
    "\n",
    "# Calculate Python usage by Age Group\n",
    "age_python_percent = df.groupby('AgeGroup')['worked_with_python'].mean() * 100\n",
    "print(age_python_percent)"
   ]
  },
  {
   "cell_type": "markdown",
   "id": "18a1cf86-df94-4dad-9bbc-e2dea9d34472",
   "metadata": {},
   "source": [
    "10. Among respondents in the 75th percentile of average compensation who work remotely, what industries are most prevalent?"
   ]
  },
  {
   "cell_type": "code",
   "execution_count": 24,
   "id": "28f91ae4-d0db-4ae5-b702-fb4c5d44e62d",
   "metadata": {},
   "outputs": [
    {
     "name": "stdout",
     "output_type": "stream",
     "text": [
      "Industry\n",
      "Software Development                          768\n",
      "Other:                                        239\n",
      "Fintech                                       156\n",
      "Healthcare                                    154\n",
      "Internet, Telecomm or Information Services    146\n",
      "Name: count, dtype: int64\n"
     ]
    }
   ],
   "source": [
    "# Convert compensation column to numeric (replace errors with NaN)\n",
    "df['ConvertedCompYearly'] = pd.to_numeric(df['ConvertedCompYearly'], errors='coerce')\n",
    "\n",
    "\n",
    "comp_75 = df['ConvertedCompYearly'].quantile(0.75)\n",
    "remote_high_earners = df[(df['ConvertedCompYearly'] >= comp_75) & (df['RemoteWork'] == 'Remote')]\n",
    "\n",
    "# Count top 5 industries\n",
    "top_industries = remote_high_earners['Industry'].value_counts().head(5)\n",
    "print(top_industries)"
   ]
  },
  {
   "cell_type": "code",
   "execution_count": null,
   "id": "22313649-04b3-48c0-94ca-28b12dde8ad3",
   "metadata": {},
   "outputs": [],
   "source": []
  }
 ],
 "metadata": {
  "kernelspec": {
   "display_name": "Python 3 (ipykernel)",
   "language": "python",
   "name": "python3"
  },
  "language_info": {
   "codemirror_mode": {
    "name": "ipython",
    "version": 3
   },
   "file_extension": ".py",
   "mimetype": "text/x-python",
   "name": "python",
   "nbconvert_exporter": "python",
   "pygments_lexer": "ipython3",
   "version": "3.12.7"
  }
 },
 "nbformat": 4,
 "nbformat_minor": 5
}
